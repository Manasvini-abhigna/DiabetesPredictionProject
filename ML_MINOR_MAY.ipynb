{
  "nbformat": 4,
  "nbformat_minor": 0,
  "metadata": {
    "colab": {
      "name": "ML-MINOR-MAY.ipynb",
      "provenance": [],
      "collapsed_sections": [],
      "authorship_tag": "ABX9TyMcNZHbVlCr0T8owjXsobev",
      "include_colab_link": true
    },
    "kernelspec": {
      "name": "python3",
      "display_name": "Python 3"
    },
    "language_info": {
      "name": "python"
    }
  },
  "cells": [
    {
      "cell_type": "markdown",
      "metadata": {
        "id": "view-in-github",
        "colab_type": "text"
      },
      "source": [
        "<a href=\"https://colab.research.google.com/github/manasvini351/DiabetesPredictionProject/blob/main/ML_MINOR_MAY.ipynb\" target=\"_parent\"><img src=\"https://colab.research.google.com/assets/colab-badge.svg\" alt=\"Open In Colab\"/></a>"
      ]
    },
    {
      "cell_type": "markdown",
      "metadata": {
        "id": "19ItsNR0La51"
      },
      "source": [
        "# **DIABETES PREDICTION USING LOGISTIC REGRESSION**\n"
      ]
    },
    {
      "cell_type": "markdown",
      "metadata": {
        "id": "QomLY4rGL5Dr"
      },
      "source": [
        "**INTRODUCTION**:\n",
        "\n",
        "Diabetes is a disease associated with high levels of glucose in the blood. \n",
        "Diabetes make many kinds of complications, which also leads to a high rate \n",
        "of repeated admission of patients.Diabetes has no cure, you can take steps to manage your diabetes and stay healthy.The aim of this study is to predict whether a patient have Diabetes or not,based on certain diagnostic measurements included in the dataset.\n"
      ]
    },
    {
      "cell_type": "markdown",
      "metadata": {
        "id": "5zrSbgn9MKVn"
      },
      "source": [
        "**STEP 1**: Take the data and import the Libraries."
      ]
    },
    {
      "cell_type": "code",
      "metadata": {
        "id": "0wOHLpPXN7p7"
      },
      "source": [
        "import pandas as pd\n",
        "import numpy as np\n",
        "import matplotlib.pyplot as plt\n",
        "import seaborn as sns\n",
        "%matplotlib inline"
      ],
      "execution_count": 1,
      "outputs": []
    },
    {
      "cell_type": "code",
      "metadata": {
        "id": "x1DvHWgFOB6u"
      },
      "source": [
        "diabetes_df= pd.read_csv('/content/diabetes.csv')"
      ],
      "execution_count": 2,
      "outputs": []
    },
    {
      "cell_type": "code",
      "metadata": {
        "colab": {
          "base_uri": "https://localhost:8080/",
          "height": 423
        },
        "id": "5Yr2bWuUOOva",
        "outputId": "7200f874-a90b-4fc1-8f9a-b6825314d541"
      },
      "source": [
        "diabetes_df"
      ],
      "execution_count": 3,
      "outputs": [
        {
          "output_type": "execute_result",
          "data": {
            "text/html": [
              "<div>\n",
              "<style scoped>\n",
              "    .dataframe tbody tr th:only-of-type {\n",
              "        vertical-align: middle;\n",
              "    }\n",
              "\n",
              "    .dataframe tbody tr th {\n",
              "        vertical-align: top;\n",
              "    }\n",
              "\n",
              "    .dataframe thead th {\n",
              "        text-align: right;\n",
              "    }\n",
              "</style>\n",
              "<table border=\"1\" class=\"dataframe\">\n",
              "  <thead>\n",
              "    <tr style=\"text-align: right;\">\n",
              "      <th></th>\n",
              "      <th>Pregnancies</th>\n",
              "      <th>Glucose</th>\n",
              "      <th>BloodPressure</th>\n",
              "      <th>SkinThickness</th>\n",
              "      <th>Insulin</th>\n",
              "      <th>BMI</th>\n",
              "      <th>DiabetesPedigreeFunction</th>\n",
              "      <th>Age</th>\n",
              "      <th>Outcome</th>\n",
              "    </tr>\n",
              "  </thead>\n",
              "  <tbody>\n",
              "    <tr>\n",
              "      <th>0</th>\n",
              "      <td>6</td>\n",
              "      <td>148</td>\n",
              "      <td>72</td>\n",
              "      <td>35</td>\n",
              "      <td>0</td>\n",
              "      <td>33.6</td>\n",
              "      <td>0.627</td>\n",
              "      <td>50</td>\n",
              "      <td>1</td>\n",
              "    </tr>\n",
              "    <tr>\n",
              "      <th>1</th>\n",
              "      <td>1</td>\n",
              "      <td>85</td>\n",
              "      <td>66</td>\n",
              "      <td>29</td>\n",
              "      <td>0</td>\n",
              "      <td>26.6</td>\n",
              "      <td>0.351</td>\n",
              "      <td>31</td>\n",
              "      <td>0</td>\n",
              "    </tr>\n",
              "    <tr>\n",
              "      <th>2</th>\n",
              "      <td>8</td>\n",
              "      <td>183</td>\n",
              "      <td>64</td>\n",
              "      <td>0</td>\n",
              "      <td>0</td>\n",
              "      <td>23.3</td>\n",
              "      <td>0.672</td>\n",
              "      <td>32</td>\n",
              "      <td>1</td>\n",
              "    </tr>\n",
              "    <tr>\n",
              "      <th>3</th>\n",
              "      <td>1</td>\n",
              "      <td>89</td>\n",
              "      <td>66</td>\n",
              "      <td>23</td>\n",
              "      <td>94</td>\n",
              "      <td>28.1</td>\n",
              "      <td>0.167</td>\n",
              "      <td>21</td>\n",
              "      <td>0</td>\n",
              "    </tr>\n",
              "    <tr>\n",
              "      <th>4</th>\n",
              "      <td>0</td>\n",
              "      <td>137</td>\n",
              "      <td>40</td>\n",
              "      <td>35</td>\n",
              "      <td>168</td>\n",
              "      <td>43.1</td>\n",
              "      <td>2.288</td>\n",
              "      <td>33</td>\n",
              "      <td>1</td>\n",
              "    </tr>\n",
              "    <tr>\n",
              "      <th>...</th>\n",
              "      <td>...</td>\n",
              "      <td>...</td>\n",
              "      <td>...</td>\n",
              "      <td>...</td>\n",
              "      <td>...</td>\n",
              "      <td>...</td>\n",
              "      <td>...</td>\n",
              "      <td>...</td>\n",
              "      <td>...</td>\n",
              "    </tr>\n",
              "    <tr>\n",
              "      <th>763</th>\n",
              "      <td>10</td>\n",
              "      <td>101</td>\n",
              "      <td>76</td>\n",
              "      <td>48</td>\n",
              "      <td>180</td>\n",
              "      <td>32.9</td>\n",
              "      <td>0.171</td>\n",
              "      <td>63</td>\n",
              "      <td>0</td>\n",
              "    </tr>\n",
              "    <tr>\n",
              "      <th>764</th>\n",
              "      <td>2</td>\n",
              "      <td>122</td>\n",
              "      <td>70</td>\n",
              "      <td>27</td>\n",
              "      <td>0</td>\n",
              "      <td>36.8</td>\n",
              "      <td>0.340</td>\n",
              "      <td>27</td>\n",
              "      <td>0</td>\n",
              "    </tr>\n",
              "    <tr>\n",
              "      <th>765</th>\n",
              "      <td>5</td>\n",
              "      <td>121</td>\n",
              "      <td>72</td>\n",
              "      <td>23</td>\n",
              "      <td>112</td>\n",
              "      <td>26.2</td>\n",
              "      <td>0.245</td>\n",
              "      <td>30</td>\n",
              "      <td>0</td>\n",
              "    </tr>\n",
              "    <tr>\n",
              "      <th>766</th>\n",
              "      <td>1</td>\n",
              "      <td>126</td>\n",
              "      <td>60</td>\n",
              "      <td>0</td>\n",
              "      <td>0</td>\n",
              "      <td>30.1</td>\n",
              "      <td>0.349</td>\n",
              "      <td>47</td>\n",
              "      <td>1</td>\n",
              "    </tr>\n",
              "    <tr>\n",
              "      <th>767</th>\n",
              "      <td>1</td>\n",
              "      <td>93</td>\n",
              "      <td>70</td>\n",
              "      <td>31</td>\n",
              "      <td>0</td>\n",
              "      <td>30.4</td>\n",
              "      <td>0.315</td>\n",
              "      <td>23</td>\n",
              "      <td>0</td>\n",
              "    </tr>\n",
              "  </tbody>\n",
              "</table>\n",
              "<p>768 rows × 9 columns</p>\n",
              "</div>"
            ],
            "text/plain": [
              "     Pregnancies  Glucose  ...  Age  Outcome\n",
              "0              6      148  ...   50        1\n",
              "1              1       85  ...   31        0\n",
              "2              8      183  ...   32        1\n",
              "3              1       89  ...   21        0\n",
              "4              0      137  ...   33        1\n",
              "..           ...      ...  ...  ...      ...\n",
              "763           10      101  ...   63        0\n",
              "764            2      122  ...   27        0\n",
              "765            5      121  ...   30        0\n",
              "766            1      126  ...   47        1\n",
              "767            1       93  ...   23        0\n",
              "\n",
              "[768 rows x 9 columns]"
            ]
          },
          "metadata": {
            "tags": []
          },
          "execution_count": 3
        }
      ]
    },
    {
      "cell_type": "markdown",
      "metadata": {
        "id": "EJw0mzN7OV9A"
      },
      "source": [
        "**STEP 2:** Filter the Data \n",
        "\n",
        "\n",
        "*   As can be easily seen in the dataframe, there are 9 columns. Namely, Pregnancies, Glucose, Blood Pressure, Skin Thickness, Insulin, BMI, Diabetes Pedigree Function, Age and Outcome. Here, \n",
        "1.The pregnancies column signifies how many times\n",
        "they were pregnant.\n",
        "\n",
        "2.Glucose being their Plasma Glucose Concentration on an(GTT). \n",
        "\n",
        "3.Blood Pressure being their diastolic Blood Pressure (mmHg) \n",
        "\n",
        "4.SkinThickness: Triceps skin fold thickness (mm).\n",
        "\n",
        "5.Insulin: 2-Hour serum insulin (mu U/ml).\n",
        "\n",
        "6.BMI: Body mass index (weight in kg/(height in m)^2).\n",
        "\n",
        "7.The Diabetes Pedigree Function is a function which provides us with the likelihood of diabetes based on family history.\n",
        "\n",
        "8.Age: Age (years).\n",
        "\n",
        "9.The outcome column one target variable or class variable, which says if they had diabetes (1) or did not (0).\n",
        "*   Now, In our analysis, We want to see what is the relation between some high risk factors like the age, pregnancies and so on.We don't really need Skin Thickness. Also, the Pedigree Function is one another value which can complicate things in the long run, hence we delete those columns.\n",
        "\n"
      ]
    },
    {
      "cell_type": "code",
      "metadata": {
        "id": "9Qqf2HhbQOF_"
      },
      "source": [
        "diabetes_df.drop(columns=['DiabetesPedigreeFunction'], inplace=True)"
      ],
      "execution_count": 4,
      "outputs": []
    },
    {
      "cell_type": "code",
      "metadata": {
        "id": "AYlfOwj4QYSy"
      },
      "source": [
        "diabetes_df.drop(columns=['SkinThickness'], inplace=True)"
      ],
      "execution_count": 5,
      "outputs": []
    },
    {
      "cell_type": "code",
      "metadata": {
        "colab": {
          "base_uri": "https://localhost:8080/",
          "height": 423
        },
        "id": "4dJoipdXQcbZ",
        "outputId": "a7701576-4429-49f6-9607-7d24a56f5e15"
      },
      "source": [
        "diabetes_df"
      ],
      "execution_count": 6,
      "outputs": [
        {
          "output_type": "execute_result",
          "data": {
            "text/html": [
              "<div>\n",
              "<style scoped>\n",
              "    .dataframe tbody tr th:only-of-type {\n",
              "        vertical-align: middle;\n",
              "    }\n",
              "\n",
              "    .dataframe tbody tr th {\n",
              "        vertical-align: top;\n",
              "    }\n",
              "\n",
              "    .dataframe thead th {\n",
              "        text-align: right;\n",
              "    }\n",
              "</style>\n",
              "<table border=\"1\" class=\"dataframe\">\n",
              "  <thead>\n",
              "    <tr style=\"text-align: right;\">\n",
              "      <th></th>\n",
              "      <th>Pregnancies</th>\n",
              "      <th>Glucose</th>\n",
              "      <th>BloodPressure</th>\n",
              "      <th>Insulin</th>\n",
              "      <th>BMI</th>\n",
              "      <th>Age</th>\n",
              "      <th>Outcome</th>\n",
              "    </tr>\n",
              "  </thead>\n",
              "  <tbody>\n",
              "    <tr>\n",
              "      <th>0</th>\n",
              "      <td>6</td>\n",
              "      <td>148</td>\n",
              "      <td>72</td>\n",
              "      <td>0</td>\n",
              "      <td>33.6</td>\n",
              "      <td>50</td>\n",
              "      <td>1</td>\n",
              "    </tr>\n",
              "    <tr>\n",
              "      <th>1</th>\n",
              "      <td>1</td>\n",
              "      <td>85</td>\n",
              "      <td>66</td>\n",
              "      <td>0</td>\n",
              "      <td>26.6</td>\n",
              "      <td>31</td>\n",
              "      <td>0</td>\n",
              "    </tr>\n",
              "    <tr>\n",
              "      <th>2</th>\n",
              "      <td>8</td>\n",
              "      <td>183</td>\n",
              "      <td>64</td>\n",
              "      <td>0</td>\n",
              "      <td>23.3</td>\n",
              "      <td>32</td>\n",
              "      <td>1</td>\n",
              "    </tr>\n",
              "    <tr>\n",
              "      <th>3</th>\n",
              "      <td>1</td>\n",
              "      <td>89</td>\n",
              "      <td>66</td>\n",
              "      <td>94</td>\n",
              "      <td>28.1</td>\n",
              "      <td>21</td>\n",
              "      <td>0</td>\n",
              "    </tr>\n",
              "    <tr>\n",
              "      <th>4</th>\n",
              "      <td>0</td>\n",
              "      <td>137</td>\n",
              "      <td>40</td>\n",
              "      <td>168</td>\n",
              "      <td>43.1</td>\n",
              "      <td>33</td>\n",
              "      <td>1</td>\n",
              "    </tr>\n",
              "    <tr>\n",
              "      <th>...</th>\n",
              "      <td>...</td>\n",
              "      <td>...</td>\n",
              "      <td>...</td>\n",
              "      <td>...</td>\n",
              "      <td>...</td>\n",
              "      <td>...</td>\n",
              "      <td>...</td>\n",
              "    </tr>\n",
              "    <tr>\n",
              "      <th>763</th>\n",
              "      <td>10</td>\n",
              "      <td>101</td>\n",
              "      <td>76</td>\n",
              "      <td>180</td>\n",
              "      <td>32.9</td>\n",
              "      <td>63</td>\n",
              "      <td>0</td>\n",
              "    </tr>\n",
              "    <tr>\n",
              "      <th>764</th>\n",
              "      <td>2</td>\n",
              "      <td>122</td>\n",
              "      <td>70</td>\n",
              "      <td>0</td>\n",
              "      <td>36.8</td>\n",
              "      <td>27</td>\n",
              "      <td>0</td>\n",
              "    </tr>\n",
              "    <tr>\n",
              "      <th>765</th>\n",
              "      <td>5</td>\n",
              "      <td>121</td>\n",
              "      <td>72</td>\n",
              "      <td>112</td>\n",
              "      <td>26.2</td>\n",
              "      <td>30</td>\n",
              "      <td>0</td>\n",
              "    </tr>\n",
              "    <tr>\n",
              "      <th>766</th>\n",
              "      <td>1</td>\n",
              "      <td>126</td>\n",
              "      <td>60</td>\n",
              "      <td>0</td>\n",
              "      <td>30.1</td>\n",
              "      <td>47</td>\n",
              "      <td>1</td>\n",
              "    </tr>\n",
              "    <tr>\n",
              "      <th>767</th>\n",
              "      <td>1</td>\n",
              "      <td>93</td>\n",
              "      <td>70</td>\n",
              "      <td>0</td>\n",
              "      <td>30.4</td>\n",
              "      <td>23</td>\n",
              "      <td>0</td>\n",
              "    </tr>\n",
              "  </tbody>\n",
              "</table>\n",
              "<p>768 rows × 7 columns</p>\n",
              "</div>"
            ],
            "text/plain": [
              "     Pregnancies  Glucose  BloodPressure  Insulin   BMI  Age  Outcome\n",
              "0              6      148             72        0  33.6   50        1\n",
              "1              1       85             66        0  26.6   31        0\n",
              "2              8      183             64        0  23.3   32        1\n",
              "3              1       89             66       94  28.1   21        0\n",
              "4              0      137             40      168  43.1   33        1\n",
              "..           ...      ...            ...      ...   ...  ...      ...\n",
              "763           10      101             76      180  32.9   63        0\n",
              "764            2      122             70        0  36.8   27        0\n",
              "765            5      121             72      112  26.2   30        0\n",
              "766            1      126             60        0  30.1   47        1\n",
              "767            1       93             70        0  30.4   23        0\n",
              "\n",
              "[768 rows x 7 columns]"
            ]
          },
          "metadata": {
            "tags": []
          },
          "execution_count": 6
        }
      ]
    },
    {
      "cell_type": "markdown",
      "metadata": {
        "id": "5gi33BdhQiWS"
      },
      "source": [
        "\n",
        "\n",
        "*   We need to analyse and clean data, to understand the data we need to see some parameters,make sure that they are all okay. For ex: glucose, bloodpressure etc can't be 0-20, well because it's not possible.\n",
        "*   We do see there are some data that are given a 0 value, this is probably because of typing error. Hence we delete those rows entirely as the other values are insignificant.Also,there maybe some irregular values, hence we'll take a look at the top 10 values of each column, and if found irregular we can easily drop or edit according to the neighbouring cells.\n",
        "\n"
      ]
    },
    {
      "cell_type": "code",
      "metadata": {
        "id": "Pz5cFfS-R6Hb"
      },
      "source": [
        "diabetes_df.loc[diabetes_df['Glucose'] <20]\n",
        "diabetes_df.drop(diabetes_df.loc[diabetes_df['Glucose']==0].index, inplace=True)\n",
        "diabetes_df.loc[diabetes_df['BloodPressure'] <20]\n",
        "diabetes_df.drop(diabetes_df.loc[diabetes_df['BloodPressure'] <20].index, inplace=True)\n",
        "diabetes_df.loc[diabetes_df['BMI'] <15]\n",
        "diabetes_df.drop(diabetes_df.loc[diabetes_df['BMI']==0].index, inplace=True)\n",
        "diabetes_df.drop(diabetes_df.loc[diabetes_df['Insulin']==0].index, inplace=True)\n",
        "diabetes_df.drop(diabetes_df.loc[diabetes_df['Age']==0].index, inplace=True)"
      ],
      "execution_count": 7,
      "outputs": []
    },
    {
      "cell_type": "code",
      "metadata": {
        "colab": {
          "base_uri": "https://localhost:8080/",
          "height": 49
        },
        "id": "sDEyotVLU8p2",
        "outputId": "b206dcc4-a157-4bcf-ba6e-0d95f9e4da29"
      },
      "source": [
        "from IPython.display import display\n",
        "with pd.option_context('display.max_rows', 10):\n",
        "    display(diabetes_df[diabetes_df.Glucose > 500])"
      ],
      "execution_count": 8,
      "outputs": [
        {
          "output_type": "display_data",
          "data": {
            "text/html": [
              "<div>\n",
              "<style scoped>\n",
              "    .dataframe tbody tr th:only-of-type {\n",
              "        vertical-align: middle;\n",
              "    }\n",
              "\n",
              "    .dataframe tbody tr th {\n",
              "        vertical-align: top;\n",
              "    }\n",
              "\n",
              "    .dataframe thead th {\n",
              "        text-align: right;\n",
              "    }\n",
              "</style>\n",
              "<table border=\"1\" class=\"dataframe\">\n",
              "  <thead>\n",
              "    <tr style=\"text-align: right;\">\n",
              "      <th></th>\n",
              "      <th>Pregnancies</th>\n",
              "      <th>Glucose</th>\n",
              "      <th>BloodPressure</th>\n",
              "      <th>Insulin</th>\n",
              "      <th>BMI</th>\n",
              "      <th>Age</th>\n",
              "      <th>Outcome</th>\n",
              "    </tr>\n",
              "  </thead>\n",
              "  <tbody>\n",
              "  </tbody>\n",
              "</table>\n",
              "</div>"
            ],
            "text/plain": [
              "Empty DataFrame\n",
              "Columns: [Pregnancies, Glucose, BloodPressure, Insulin, BMI, Age, Outcome]\n",
              "Index: []"
            ]
          },
          "metadata": {
            "tags": []
          }
        }
      ]
    },
    {
      "cell_type": "code",
      "metadata": {
        "colab": {
          "base_uri": "https://localhost:8080/",
          "height": 49
        },
        "id": "aJQ27pewVB2n",
        "outputId": "1d43f74b-59ae-4329-ca96-79c4867bb70e"
      },
      "source": [
        "from IPython.display import display\n",
        "with pd.option_context('display.max_rows', 10):\n",
        "    display(diabetes_df[diabetes_df.BloodPressure > 360])"
      ],
      "execution_count": 9,
      "outputs": [
        {
          "output_type": "display_data",
          "data": {
            "text/html": [
              "<div>\n",
              "<style scoped>\n",
              "    .dataframe tbody tr th:only-of-type {\n",
              "        vertical-align: middle;\n",
              "    }\n",
              "\n",
              "    .dataframe tbody tr th {\n",
              "        vertical-align: top;\n",
              "    }\n",
              "\n",
              "    .dataframe thead th {\n",
              "        text-align: right;\n",
              "    }\n",
              "</style>\n",
              "<table border=\"1\" class=\"dataframe\">\n",
              "  <thead>\n",
              "    <tr style=\"text-align: right;\">\n",
              "      <th></th>\n",
              "      <th>Pregnancies</th>\n",
              "      <th>Glucose</th>\n",
              "      <th>BloodPressure</th>\n",
              "      <th>Insulin</th>\n",
              "      <th>BMI</th>\n",
              "      <th>Age</th>\n",
              "      <th>Outcome</th>\n",
              "    </tr>\n",
              "  </thead>\n",
              "  <tbody>\n",
              "  </tbody>\n",
              "</table>\n",
              "</div>"
            ],
            "text/plain": [
              "Empty DataFrame\n",
              "Columns: [Pregnancies, Glucose, BloodPressure, Insulin, BMI, Age, Outcome]\n",
              "Index: []"
            ]
          },
          "metadata": {
            "tags": []
          }
        }
      ]
    },
    {
      "cell_type": "code",
      "metadata": {
        "colab": {
          "base_uri": "https://localhost:8080/",
          "height": 49
        },
        "id": "jg2H-m7yVHWU",
        "outputId": "2a2029d4-6551-4576-b501-97f46b1a1da5"
      },
      "source": [
        "from IPython.display import display\n",
        "with pd.option_context('display.max_rows', 10):\n",
        "    display(diabetes_df[diabetes_df.BMI > 70])"
      ],
      "execution_count": 10,
      "outputs": [
        {
          "output_type": "display_data",
          "data": {
            "text/html": [
              "<div>\n",
              "<style scoped>\n",
              "    .dataframe tbody tr th:only-of-type {\n",
              "        vertical-align: middle;\n",
              "    }\n",
              "\n",
              "    .dataframe tbody tr th {\n",
              "        vertical-align: top;\n",
              "    }\n",
              "\n",
              "    .dataframe thead th {\n",
              "        text-align: right;\n",
              "    }\n",
              "</style>\n",
              "<table border=\"1\" class=\"dataframe\">\n",
              "  <thead>\n",
              "    <tr style=\"text-align: right;\">\n",
              "      <th></th>\n",
              "      <th>Pregnancies</th>\n",
              "      <th>Glucose</th>\n",
              "      <th>BloodPressure</th>\n",
              "      <th>Insulin</th>\n",
              "      <th>BMI</th>\n",
              "      <th>Age</th>\n",
              "      <th>Outcome</th>\n",
              "    </tr>\n",
              "  </thead>\n",
              "  <tbody>\n",
              "  </tbody>\n",
              "</table>\n",
              "</div>"
            ],
            "text/plain": [
              "Empty DataFrame\n",
              "Columns: [Pregnancies, Glucose, BloodPressure, Insulin, BMI, Age, Outcome]\n",
              "Index: []"
            ]
          },
          "metadata": {
            "tags": []
          }
        }
      ]
    },
    {
      "cell_type": "code",
      "metadata": {
        "colab": {
          "base_uri": "https://localhost:8080/",
          "height": 423
        },
        "id": "zvnb5AEgVMUh",
        "outputId": "ceedafd2-c00f-47d2-a44f-83f3ed7adb47"
      },
      "source": [
        "diabetes_df"
      ],
      "execution_count": 11,
      "outputs": [
        {
          "output_type": "execute_result",
          "data": {
            "text/html": [
              "<div>\n",
              "<style scoped>\n",
              "    .dataframe tbody tr th:only-of-type {\n",
              "        vertical-align: middle;\n",
              "    }\n",
              "\n",
              "    .dataframe tbody tr th {\n",
              "        vertical-align: top;\n",
              "    }\n",
              "\n",
              "    .dataframe thead th {\n",
              "        text-align: right;\n",
              "    }\n",
              "</style>\n",
              "<table border=\"1\" class=\"dataframe\">\n",
              "  <thead>\n",
              "    <tr style=\"text-align: right;\">\n",
              "      <th></th>\n",
              "      <th>Pregnancies</th>\n",
              "      <th>Glucose</th>\n",
              "      <th>BloodPressure</th>\n",
              "      <th>Insulin</th>\n",
              "      <th>BMI</th>\n",
              "      <th>Age</th>\n",
              "      <th>Outcome</th>\n",
              "    </tr>\n",
              "  </thead>\n",
              "  <tbody>\n",
              "    <tr>\n",
              "      <th>3</th>\n",
              "      <td>1</td>\n",
              "      <td>89</td>\n",
              "      <td>66</td>\n",
              "      <td>94</td>\n",
              "      <td>28.1</td>\n",
              "      <td>21</td>\n",
              "      <td>0</td>\n",
              "    </tr>\n",
              "    <tr>\n",
              "      <th>4</th>\n",
              "      <td>0</td>\n",
              "      <td>137</td>\n",
              "      <td>40</td>\n",
              "      <td>168</td>\n",
              "      <td>43.1</td>\n",
              "      <td>33</td>\n",
              "      <td>1</td>\n",
              "    </tr>\n",
              "    <tr>\n",
              "      <th>6</th>\n",
              "      <td>3</td>\n",
              "      <td>78</td>\n",
              "      <td>50</td>\n",
              "      <td>88</td>\n",
              "      <td>31.0</td>\n",
              "      <td>26</td>\n",
              "      <td>1</td>\n",
              "    </tr>\n",
              "    <tr>\n",
              "      <th>8</th>\n",
              "      <td>2</td>\n",
              "      <td>197</td>\n",
              "      <td>70</td>\n",
              "      <td>543</td>\n",
              "      <td>30.5</td>\n",
              "      <td>53</td>\n",
              "      <td>1</td>\n",
              "    </tr>\n",
              "    <tr>\n",
              "      <th>13</th>\n",
              "      <td>1</td>\n",
              "      <td>189</td>\n",
              "      <td>60</td>\n",
              "      <td>846</td>\n",
              "      <td>30.1</td>\n",
              "      <td>59</td>\n",
              "      <td>1</td>\n",
              "    </tr>\n",
              "    <tr>\n",
              "      <th>...</th>\n",
              "      <td>...</td>\n",
              "      <td>...</td>\n",
              "      <td>...</td>\n",
              "      <td>...</td>\n",
              "      <td>...</td>\n",
              "      <td>...</td>\n",
              "      <td>...</td>\n",
              "    </tr>\n",
              "    <tr>\n",
              "      <th>753</th>\n",
              "      <td>0</td>\n",
              "      <td>181</td>\n",
              "      <td>88</td>\n",
              "      <td>510</td>\n",
              "      <td>43.3</td>\n",
              "      <td>26</td>\n",
              "      <td>1</td>\n",
              "    </tr>\n",
              "    <tr>\n",
              "      <th>755</th>\n",
              "      <td>1</td>\n",
              "      <td>128</td>\n",
              "      <td>88</td>\n",
              "      <td>110</td>\n",
              "      <td>36.5</td>\n",
              "      <td>37</td>\n",
              "      <td>1</td>\n",
              "    </tr>\n",
              "    <tr>\n",
              "      <th>760</th>\n",
              "      <td>2</td>\n",
              "      <td>88</td>\n",
              "      <td>58</td>\n",
              "      <td>16</td>\n",
              "      <td>28.4</td>\n",
              "      <td>22</td>\n",
              "      <td>0</td>\n",
              "    </tr>\n",
              "    <tr>\n",
              "      <th>763</th>\n",
              "      <td>10</td>\n",
              "      <td>101</td>\n",
              "      <td>76</td>\n",
              "      <td>180</td>\n",
              "      <td>32.9</td>\n",
              "      <td>63</td>\n",
              "      <td>0</td>\n",
              "    </tr>\n",
              "    <tr>\n",
              "      <th>765</th>\n",
              "      <td>5</td>\n",
              "      <td>121</td>\n",
              "      <td>72</td>\n",
              "      <td>112</td>\n",
              "      <td>26.2</td>\n",
              "      <td>30</td>\n",
              "      <td>0</td>\n",
              "    </tr>\n",
              "  </tbody>\n",
              "</table>\n",
              "<p>392 rows × 7 columns</p>\n",
              "</div>"
            ],
            "text/plain": [
              "     Pregnancies  Glucose  BloodPressure  Insulin   BMI  Age  Outcome\n",
              "3              1       89             66       94  28.1   21        0\n",
              "4              0      137             40      168  43.1   33        1\n",
              "6              3       78             50       88  31.0   26        1\n",
              "8              2      197             70      543  30.5   53        1\n",
              "13             1      189             60      846  30.1   59        1\n",
              "..           ...      ...            ...      ...   ...  ...      ...\n",
              "753            0      181             88      510  43.3   26        1\n",
              "755            1      128             88      110  36.5   37        1\n",
              "760            2       88             58       16  28.4   22        0\n",
              "763           10      101             76      180  32.9   63        0\n",
              "765            5      121             72      112  26.2   30        0\n",
              "\n",
              "[392 rows x 7 columns]"
            ]
          },
          "metadata": {
            "tags": []
          },
          "execution_count": 11
        }
      ]
    },
    {
      "cell_type": "markdown",
      "metadata": {
        "id": "WbyuH6DiV4Ma"
      },
      "source": [
        "**EXPLORATORY DATA ANALYSIS:**\n",
        "\n",
        "CORRELATION MATRIX: Variables within a dataset can be related for lots of reasons. It can be useful in data analysis and modeling to get better understanding of the relationships between variables. The statistical relationship between two variables is referred as their correlation."
      ]
    },
    {
      "cell_type": "code",
      "metadata": {
        "colab": {
          "base_uri": "https://localhost:8080/",
          "height": 742
        },
        "id": "HFftQNppVsYE",
        "outputId": "8e80ebbe-c0c4-4537-efd1-7f7035853c17"
      },
      "source": [
        "corr_data = diabetes_df.corr() \n",
        "sns.clustermap(corr_data,annot= True,cmap = \"YlGnBu\",fmt = '.2f')\n",
        "plt.title('Correlation Between Features')\n",
        "plt.show();"
      ],
      "execution_count": 12,
      "outputs": [
        {
          "output_type": "display_data",
          "data": {
            "image/png": "[encoded data removed]",
            "text/plain": [
              "<Figure size 720x720 with 4 Axes>"
            ]
          },
          "metadata": {
            "tags": [],
            "needs_background": "light"
          }
        }
      ]
    },
    {
      "cell_type": "code",
      "metadata": {
        "colab": {
          "base_uri": "https://localhost:8080/",
          "height": 858
        },
        "id": "KaRb3I8IXKbQ",
        "outputId": "b84a39fd-d505-4004-c636-cd980e9924a9"
      },
      "source": [
        "fig=diabetes_df.hist(figsize = (20,20), color='#09FBD3',alpha=0.7, rwidth=0.85)"
      ],
      "execution_count": 15,
      "outputs": [
        {
          "output_type": "display_data",
          "data": {
            "image/png": "[encoded data removed]",
            "text/plain": [
              "<Figure size 1440x1440 with 9 Axes>"
            ]
          },
          "metadata": {
            "tags": [],
            "needs_background": "light"
          }
        }
      ]
    },
    {
      "cell_type": "markdown",
      "metadata": {
        "id": "oiFaCdRWWuSK"
      },
      "source": [
        "**STEP 3:** Divide the input and output."
      ]
    },
    {
      "cell_type": "code",
      "metadata": {
        "id": "CPOI9dl7W4mT"
      },
      "source": [
        "#input parameters\n",
        "X = diabetes_df[['Pregnancies','Glucose', 'BloodPressure','Insulin', 'BMI',  'Age']].values"
      ],
      "execution_count": 13,
      "outputs": []
    },
    {
      "cell_type": "code",
      "metadata": {
        "colab": {
          "base_uri": "https://localhost:8080/"
        },
        "id": "SNB8cmgPXBVu",
        "outputId": "0534fa70-37f5-496f-9654-3e472ed05bd0"
      },
      "source": [
        "X"
      ],
      "execution_count": 14,
      "outputs": [
        {
          "output_type": "execute_result",
          "data": {
            "text/plain": [
              "array([[  1. ,  89. ,  66. ,  94. ,  28.1,  21. ],\n",
              "       [  0. , 137. ,  40. , 168. ,  43.1,  33. ],\n",
              "       [  3. ,  78. ,  50. ,  88. ,  31. ,  26. ],\n",
              "       ...,\n",
              "       [  2. ,  88. ,  58. ,  16. ,  28.4,  22. ],\n",
              "       [ 10. , 101. ,  76. , 180. ,  32.9,  63. ],\n",
              "       [  5. , 121. ,  72. , 112. ,  26.2,  30. ]])"
            ]
          },
          "metadata": {
            "tags": []
          },
          "execution_count": 14
        }
      ]
    },
    {
      "cell_type": "code",
      "metadata": {
        "id": "hW0ipDRpXEOc"
      },
      "source": [
        "#Target Parameter- Output parameter\n",
        "Y= diabetes_df['Outcome'].values"
      ],
      "execution_count": 16,
      "outputs": []
    },
    {
      "cell_type": "code",
      "metadata": {
        "colab": {
          "base_uri": "https://localhost:8080/"
        },
        "id": "N-l14NfnXnp9",
        "outputId": "0a7bdeb3-65c7-4c3b-fefc-ec79e731e2af"
      },
      "source": [
        "Y"
      ],
      "execution_count": 17,
      "outputs": [
        {
          "output_type": "execute_result",
          "data": {
            "text/plain": [
              "array([0, 1, 1, 1, 1, 1, 1, 0, 1, 0, 1, 1, 0, 0, 1, 0, 0, 1, 0, 1, 0, 0,\n",
              "       0, 1, 0, 1, 0, 0, 0, 0, 0, 1, 0, 0, 0, 0, 0, 1, 0, 0, 0, 0, 0, 0,\n",
              "       1, 0, 0, 0, 0, 1, 1, 1, 0, 1, 0, 1, 0, 1, 0, 0, 1, 1, 1, 0, 0, 0,\n",
              "       0, 0, 0, 0, 0, 0, 1, 0, 0, 0, 0, 1, 0, 0, 1, 0, 1, 0, 0, 1, 1, 0,\n",
              "       1, 1, 1, 1, 0, 1, 1, 1, 1, 0, 0, 1, 0, 1, 1, 1, 1, 0, 1, 0, 0, 0,\n",
              "       0, 0, 1, 0, 0, 1, 0, 1, 0, 0, 0, 0, 1, 0, 1, 0, 0, 0, 0, 0, 0, 0,\n",
              "       0, 0, 0, 0, 1, 0, 0, 0, 1, 1, 1, 0, 1, 0, 1, 1, 0, 0, 1, 0, 1, 1,\n",
              "       0, 1, 0, 0, 0, 0, 0, 1, 0, 1, 1, 0, 0, 0, 0, 1, 0, 0, 0, 0, 0, 0,\n",
              "       1, 0, 1, 1, 0, 0, 0, 1, 1, 0, 0, 0, 1, 0, 0, 0, 0, 0, 0, 0, 0, 1,\n",
              "       0, 0, 0, 0, 0, 0, 1, 0, 1, 0, 0, 0, 1, 1, 1, 0, 0, 0, 1, 1, 1, 0,\n",
              "       1, 0, 0, 0, 0, 1, 0, 0, 1, 0, 0, 0, 0, 0, 1, 0, 0, 0, 0, 0, 0, 0,\n",
              "       1, 0, 0, 1, 0, 0, 1, 0, 0, 0, 1, 0, 1, 0, 0, 0, 1, 0, 0, 0, 0, 1,\n",
              "       1, 0, 0, 0, 0, 0, 0, 0, 0, 0, 0, 1, 1, 1, 0, 0, 1, 1, 0, 0, 0, 0,\n",
              "       0, 0, 1, 0, 0, 0, 0, 0, 0, 1, 0, 0, 0, 0, 0, 1, 1, 0, 0, 0, 1, 0,\n",
              "       0, 1, 1, 0, 0, 0, 0, 1, 1, 1, 0, 0, 0, 0, 0, 0, 0, 1, 0, 0, 0, 0,\n",
              "       1, 1, 1, 0, 0, 0, 0, 1, 0, 0, 1, 1, 1, 0, 0, 0, 0, 0, 0, 0, 0, 0,\n",
              "       0, 0, 1, 0, 1, 1, 1, 0, 0, 0, 0, 1, 0, 0, 0, 1, 1, 0, 0, 1, 0, 0,\n",
              "       1, 1, 0, 0, 0, 1, 0, 0, 0, 0, 0, 1, 0, 1, 1, 0, 0, 0])"
            ]
          },
          "metadata": {
            "tags": []
          },
          "execution_count": 17
        }
      ]
    },
    {
      "cell_type": "markdown",
      "metadata": {
        "id": "6YmBMkncXtqw"
      },
      "source": [
        "**STEP 4:** Train and Test Variables"
      ]
    },
    {
      "cell_type": "code",
      "metadata": {
        "id": "C0hMsj-ZX2_F"
      },
      "source": [
        "from sklearn.model_selection import train_test_split"
      ],
      "execution_count": 18,
      "outputs": []
    },
    {
      "cell_type": "code",
      "metadata": {
        "id": "E4iHrLQtYvj1"
      },
      "source": [
        "X_train, X_test, Y_train, Y_test = train_test_split(X,Y, test_size = 0.2, random_state = 0)"
      ],
      "execution_count": 19,
      "outputs": []
    },
    {
      "cell_type": "code",
      "metadata": {
        "colab": {
          "base_uri": "https://localhost:8080/"
        },
        "id": "FsPCRbBlY2g2",
        "outputId": "3743e618-90f8-4642-f074-bef0123f0ad8"
      },
      "source": [
        "X_test"
      ],
      "execution_count": 20,
      "outputs": [
        {
          "output_type": "execute_result",
          "data": {
            "text/plain": [
              "array([[  2. , 146. ,  70. , 360. ,  28. ,  29. ],\n",
              "       [  8. , 186. ,  90. , 225. ,  34.5,  37. ],\n",
              "       [  2. , 108. ,  52. ,  63. ,  32.5,  22. ],\n",
              "       [  5. , 117. ,  86. , 105. ,  39.1,  42. ],\n",
              "       [  3. , 103. ,  72. , 152. ,  27.6,  27. ],\n",
              "       [  6. , 154. ,  74. , 193. ,  29.3,  39. ],\n",
              "       [  1. , 109. ,  38. , 120. ,  23.1,  26. ],\n",
              "       [  1. , 100. ,  74. ,  46. ,  19.5,  28. ],\n",
              "       [ 11. , 155. ,  76. , 150. ,  33.3,  51. ],\n",
              "       [  7. , 142. ,  60. , 190. ,  28.8,  61. ],\n",
              "       [  4. ,  99. ,  76. ,  51. ,  23.2,  21. ],\n",
              "       [  0. , 138. ,  60. , 167. ,  34.6,  21. ],\n",
              "       [  2. , 100. ,  54. , 105. ,  37.8,  24. ],\n",
              "       [  9. , 112. ,  82. , 175. ,  34.2,  36. ],\n",
              "       [  7. , 124. ,  70. , 215. ,  25.5,  37. ],\n",
              "       [  2. ,  56. ,  56. ,  45. ,  24.2,  22. ],\n",
              "       [  0. , 127. ,  80. , 210. ,  36.3,  23. ],\n",
              "       [  2. ,  99. ,  52. ,  94. ,  24.6,  21. ],\n",
              "       [  1. ,  79. ,  80. ,  37. ,  25.4,  22. ],\n",
              "       [  2. , 112. ,  78. , 140. ,  39.4,  24. ],\n",
              "       [  2. , 102. ,  86. , 120. ,  45.5,  23. ],\n",
              "       [ 10. , 129. ,  76. , 122. ,  35.9,  39. ],\n",
              "       [  1. , 118. ,  58. ,  94. ,  33.3,  23. ],\n",
              "       [  3. , 102. ,  44. ,  94. ,  30.8,  26. ],\n",
              "       [  1. ,  89. ,  24. ,  25. ,  27.8,  21. ],\n",
              "       [ 15. , 136. ,  70. , 110. ,  37.1,  43. ],\n",
              "       [  1. , 106. ,  70. , 135. ,  34.2,  22. ],\n",
              "       [  2. ,  81. ,  72. ,  76. ,  30.1,  25. ],\n",
              "       [  1. ,  95. ,  60. ,  58. ,  23.9,  22. ],\n",
              "       [  0. , 100. ,  70. ,  50. ,  30.8,  21. ],\n",
              "       [ 12. ,  92. ,  62. , 258. ,  27.6,  44. ],\n",
              "       [  1. , 140. ,  74. , 180. ,  24.1,  23. ],\n",
              "       [  2. ,  88. ,  74. ,  53. ,  29. ,  22. ],\n",
              "       [  0. , 107. ,  62. ,  74. ,  36.6,  25. ],\n",
              "       [  1. , 157. ,  72. , 168. ,  25.6,  24. ],\n",
              "       [  7. , 168. ,  88. , 321. ,  38.2,  40. ],\n",
              "       [  1. ,  89. ,  76. ,  37. ,  31.2,  23. ],\n",
              "       [  8. , 109. ,  76. , 114. ,  27.9,  31. ],\n",
              "       [  2. , 105. ,  58. ,  94. ,  34.9,  25. ],\n",
              "       [  0. , 118. ,  84. , 230. ,  45.8,  31. ],\n",
              "       [  0. , 137. ,  40. , 168. ,  43.1,  33. ],\n",
              "       [  0. , 102. ,  86. , 105. ,  29.3,  27. ],\n",
              "       [ 11. , 138. ,  74. , 144. ,  36.1,  50. ],\n",
              "       [  7. , 136. ,  74. , 135. ,  26. ,  51. ],\n",
              "       [  0. ,  91. ,  68. , 210. ,  39.9,  25. ],\n",
              "       [  1. ,  82. ,  64. ,  95. ,  21.2,  23. ],\n",
              "       [  0. , 134. ,  58. , 291. ,  26.4,  21. ],\n",
              "       [  5. , 155. ,  84. , 545. ,  38.7,  34. ],\n",
              "       [  0. , 135. ,  94. , 145. ,  40.6,  26. ],\n",
              "       [  0. , 177. ,  60. , 478. ,  34.6,  21. ],\n",
              "       [ 14. , 100. ,  78. , 184. ,  36.6,  46. ],\n",
              "       [ 11. , 143. ,  94. , 146. ,  36.6,  51. ],\n",
              "       [  0. , 100. ,  88. , 110. ,  46.8,  31. ],\n",
              "       [  1. ,  81. ,  72. ,  40. ,  26.6,  24. ],\n",
              "       [  3. , 174. ,  58. , 194. ,  32.9,  36. ],\n",
              "       [  2. , 121. ,  70. ,  95. ,  39.1,  23. ],\n",
              "       [  2. , 122. ,  76. , 200. ,  35.9,  26. ],\n",
              "       [  1. ,  87. ,  60. ,  75. ,  37.2,  22. ],\n",
              "       [  5. , 189. ,  64. , 325. ,  31.2,  29. ],\n",
              "       [  1. , 117. ,  88. , 145. ,  34.5,  40. ],\n",
              "       [  3. ,  88. ,  58. ,  54. ,  24.8,  22. ],\n",
              "       [  0. , 126. ,  84. , 215. ,  30.7,  24. ],\n",
              "       [  8. , 100. ,  74. , 215. ,  39.4,  43. ],\n",
              "       [  5. , 166. ,  72. , 175. ,  25.8,  51. ],\n",
              "       [  7. , 102. ,  74. , 105. ,  37.2,  45. ],\n",
              "       [  3. , 115. ,  66. , 140. ,  38.1,  28. ],\n",
              "       [  1. , 103. ,  30. ,  83. ,  43.3,  33. ],\n",
              "       [  2. ,  93. ,  64. , 160. ,  38. ,  23. ],\n",
              "       [  1. , 103. ,  80. ,  82. ,  19.4,  22. ],\n",
              "       [  0. , 102. ,  78. ,  90. ,  34.5,  24. ],\n",
              "       [  4. ,  85. ,  58. ,  49. ,  27.8,  28. ],\n",
              "       [  9. , 145. ,  88. , 165. ,  30.3,  53. ],\n",
              "       [  3. ,  84. ,  68. , 106. ,  31.9,  25. ],\n",
              "       [  3. ,  89. ,  74. ,  85. ,  30.4,  38. ],\n",
              "       [  1. ,  96. ,  64. ,  87. ,  33.2,  21. ],\n",
              "       [  2. , 125. ,  60. , 140. ,  33.8,  31. ],\n",
              "       [  0. , 162. ,  76. , 100. ,  53.2,  25. ],\n",
              "       [  2. ,  84. ,  50. ,  76. ,  30.4,  21. ],\n",
              "       [  2. ,  94. ,  68. ,  76. ,  26. ,  21. ]])"
            ]
          },
          "metadata": {
            "tags": []
          },
          "execution_count": 20
        }
      ]
    },
    {
      "cell_type": "markdown",
      "metadata": {
        "id": "tlt94S0DZUyA"
      },
      "source": [
        "**STEP 5:** Feature Scaling"
      ]
    },
    {
      "cell_type": "code",
      "metadata": {
        "id": "h0hYljg3Y5p5"
      },
      "source": [
        "from sklearn.preprocessing import StandardScaler"
      ],
      "execution_count": 21,
      "outputs": []
    },
    {
      "cell_type": "code",
      "metadata": {
        "id": "BCXUDpH5ZhUa"
      },
      "source": [
        "sc = StandardScaler()"
      ],
      "execution_count": 22,
      "outputs": []
    },
    {
      "cell_type": "code",
      "metadata": {
        "id": "nlURHJRaZlwx"
      },
      "source": [
        "X_train = sc.fit_transform(X_train)\n",
        "X_test = sc.fit_transform(X_test)"
      ],
      "execution_count": 23,
      "outputs": []
    },
    {
      "cell_type": "code",
      "metadata": {
        "colab": {
          "base_uri": "https://localhost:8080/"
        },
        "id": "Y7ud5xLuZqfL",
        "outputId": "ec3c52ab-080f-44d7-9e79-78db9ac66fd3"
      },
      "source": [
        "X_test"
      ],
      "execution_count": 24,
      "outputs": [
        {
          "output_type": "execute_result",
          "data": {
            "text/plain": [
              "array([[-0.37150091,  1.06924164,  0.05365129,  2.36262621, -0.69474541,\n",
              "        -0.11807454],\n",
              "       [ 1.27421338,  2.50458725,  1.5151865 ,  0.89347523,  0.29430856,\n",
              "         0.69304624],\n",
              "       [-0.37150091, -0.2943367 , -1.26173039, -0.86950596, -0.01001574,\n",
              "        -0.82780523],\n",
              "       [ 0.45135624,  0.02861607,  1.22287946, -0.41243676,  0.99425445,\n",
              "         1.19999673],\n",
              "       [-0.09721519, -0.4737549 ,  0.19980481,  0.09904543, -0.75561027,\n",
              "        -0.32085474],\n",
              "       [ 0.72564195,  1.35631076,  0.34595833,  0.54523203, -0.49693461,\n",
              "         0.89582644],\n",
              "       [-0.64578662, -0.25845306, -2.28480504, -0.24919776, -1.44033994,\n",
              "        -0.42224484],\n",
              "       [-0.64578662, -0.58140582,  0.34595833, -1.05451015, -1.98812368,\n",
              "        -0.21946464],\n",
              "       [ 2.09707053,  1.3921944 ,  0.49211185,  0.07728023,  0.11171398,\n",
              "         2.11250762],\n",
              "       [ 0.99992767,  0.92570708, -0.67711631,  0.51258423, -0.57301569,\n",
              "         3.1264086 ],\n",
              "       [ 0.17707052, -0.61728946,  0.49211185, -1.00009715, -1.42512372,\n",
              "        -0.92919533],\n",
              "       [-0.92007234,  0.78217251, -0.67711631,  0.26228443,  0.30952478,\n",
              "        -0.92919533],\n",
              "       [-0.37150091, -0.58140582, -1.11557687, -0.41243676,  0.79644365,\n",
              "        -0.62502504],\n",
              "       [ 1.5484991 , -0.15080213,  0.93057242,  0.34934523,  0.24865992,\n",
              "         0.59165614],\n",
              "       [ 0.99992767,  0.27980155,  0.05365129,  0.78464923, -1.07515078,\n",
              "         0.69304624],\n",
              "       [-0.37150091, -2.16028599, -0.96942335, -1.06539275, -1.27296157,\n",
              "        -0.82780523],\n",
              "       [-0.92007234,  0.38745247,  0.78441889,  0.73023623,  0.56820043,\n",
              "        -0.72641513],\n",
              "       [-0.37150091, -0.61728946, -1.26173039, -0.53214536, -1.21209671,\n",
              "        -0.92919533],\n",
              "       [-0.64578662, -1.33496227,  0.78441889, -1.15245355, -1.090367  ,\n",
              "        -0.82780523],\n",
              "       [-0.37150091, -0.15080213,  0.63826537, -0.03154576,  1.03990309,\n",
              "        -0.62502504],\n",
              "       [-0.37150091, -0.50963854,  1.22287946, -0.24919776,  1.9680922 ,\n",
              "        -0.72641513],\n",
              "       [ 1.82278481,  0.45921975,  0.49211185, -0.22743256,  0.50733557,\n",
              "         0.89582644],\n",
              "       [-0.64578662,  0.06449971, -0.82326983, -0.53214536,  0.11171398,\n",
              "        -0.72641513],\n",
              "       [-0.09721519, -0.50963854, -1.84634447, -0.53214536, -0.26869139,\n",
              "        -0.42224484],\n",
              "       [-0.64578662, -0.97612586, -3.30787968, -1.28304475, -0.72517784,\n",
              "        -0.92919533],\n",
              "       [ 3.19421339,  0.71040523,  0.05365129, -0.35802376,  0.68993015,\n",
              "         1.30138683],\n",
              "       [-0.64578662, -0.36610398,  0.05365129, -0.08595876,  0.24865992,\n",
              "        -0.82780523],\n",
              "       [-0.37150091, -1.26319498,  0.19980481, -0.72803216, -0.37520489,\n",
              "        -0.52363494],\n",
              "       [-0.64578662, -0.76082402, -0.67711631, -0.92391895, -1.31861022,\n",
              "        -0.82780523],\n",
              "       [-0.92007234, -0.58140582,  0.05365129, -1.01097975, -0.26869139,\n",
              "        -0.92919533],\n",
              "       [ 2.37135624, -0.86847494, -0.53096279,  1.25260102, -0.75561027,\n",
              "         1.40277693],\n",
              "       [-0.64578662,  0.8539398 ,  0.34595833,  0.40375823, -1.28817779,\n",
              "        -0.72641513],\n",
              "       [-0.37150091, -1.0120095 ,  0.34595833, -0.97833195, -0.54258326,\n",
              "        -0.82780523],\n",
              "       [-0.92007234, -0.33022034, -0.53096279, -0.74979736,  0.61384908,\n",
              "        -0.52363494],\n",
              "       [-0.64578662,  1.46396168,  0.19980481,  0.27316703, -1.05993457,\n",
              "        -0.62502504],\n",
              "       [ 0.99992767,  1.85868173,  1.36903298,  1.93820481,  0.85730851,\n",
              "         0.99721654],\n",
              "       [-0.64578662, -0.97612586,  0.49211185, -1.15245355, -0.20782653,\n",
              "        -0.72641513],\n",
              "       [ 1.27421338, -0.25845306,  0.49211185, -0.31449336, -0.70996162,\n",
              "         0.08470565],\n",
              "       [-0.37150091, -0.40198762, -0.82326983, -0.53214536,  0.35517342,\n",
              "        -0.52363494],\n",
              "       [-0.92007234,  0.06449971,  1.07672594,  0.94788823,  2.01374085,\n",
              "         0.08470565],\n",
              "       [-0.92007234,  0.74628887, -2.13865152,  0.27316703,  1.60290304,\n",
              "         0.28748585],\n",
              "       [-0.92007234, -0.50963854,  1.22287946, -0.41243676, -0.49693461,\n",
              "        -0.32085474],\n",
              "       [ 2.09707053,  0.78217251,  0.34595833,  0.01198464,  0.537768  ,\n",
              "         2.01111752],\n",
              "       [ 0.99992767,  0.71040523,  0.34595833, -0.08595876, -0.99906971,\n",
              "         2.11250762],\n",
              "       [-0.92007234, -0.90435858, -0.09250223,  0.73023623,  1.11598417,\n",
              "        -0.52363494],\n",
              "       [-0.64578662, -1.22731134, -0.38480927, -0.52126276, -1.72944802,\n",
              "        -0.72641513],\n",
              "       [-0.92007234,  0.63863795, -0.82326983,  1.61172682, -0.93820485,\n",
              "        -0.92919533],\n",
              "       [ 0.45135624,  1.3921944 ,  1.07672594,  4.37590719,  0.93338959,\n",
              "         0.38887595],\n",
              "       [-0.92007234,  0.67452159,  1.80749354,  0.02286724,  1.22249767,\n",
              "        -0.42224484],\n",
              "       [-0.92007234,  2.18163449, -0.67711631,  3.646773  ,  0.30952478,\n",
              "        -0.92919533],\n",
              "       [ 2.91992767, -0.58140582,  0.63826537,  0.44728863,  0.61384908,\n",
              "         1.60555713],\n",
              "       [ 2.09707053,  0.96159072,  1.80749354,  0.03374984,  0.61384908,\n",
              "         2.11250762],\n",
              "       [-0.92007234, -0.58140582,  1.36903298, -0.35802376,  2.165903  ,\n",
              "         0.08470565],\n",
              "       [-0.64578662, -1.26319498,  0.19980481, -1.11980575, -0.90777242,\n",
              "        -0.62502504],\n",
              "       [-0.09721519,  2.07398357, -0.82326983,  0.55611463,  0.05084912,\n",
              "         0.59165614],\n",
              "       [-0.37150091,  0.17215063,  0.05365129, -0.52126276,  0.99425445,\n",
              "        -0.72641513],\n",
              "       [-0.37150091,  0.20803427,  0.49211185,  0.62141023,  0.50733557,\n",
              "        -0.42224484],\n",
              "       [-0.64578662, -1.04789314, -0.67711631, -0.73891476,  0.70514636,\n",
              "        -0.82780523],\n",
              "       [ 0.45135624,  2.61223817, -0.38480927,  1.98173521, -0.20782653,\n",
              "        -0.11807454],\n",
              "       [-0.64578662,  0.02861607,  1.36903298,  0.02286724,  0.29430856,\n",
              "         0.99721654],\n",
              "       [-0.09721519, -1.0120095 , -0.82326983, -0.96744935, -1.18166429,\n",
              "        -0.82780523],\n",
              "       [-0.92007234,  0.35156883,  1.07672594,  0.78464923, -0.2839076 ,\n",
              "        -0.62502504],\n",
              "       [ 1.27421338, -0.58140582,  0.34595833,  0.78464923,  1.03990309,\n",
              "         1.30138683],\n",
              "       [ 0.45135624,  1.78691444,  0.19980481,  0.34934523, -1.02950214,\n",
              "         2.11250762],\n",
              "       [ 0.99992767, -0.50963854,  0.34595833, -0.41243676,  0.70514636,\n",
              "         1.50416703],\n",
              "       [-0.09721519, -0.04315121, -0.23865575, -0.03154576,  0.8420923 ,\n",
              "        -0.21946464],\n",
              "       [-0.64578662, -0.4737549 , -2.86941912, -0.65185396,  1.63333547,\n",
              "         0.28748585],\n",
              "       [-0.37150091, -0.8325913 , -0.38480927,  0.18610623,  0.82687608,\n",
              "        -0.72641513],\n",
              "       [-0.64578662, -0.4737549 ,  0.78441889, -0.66273656, -2.00333989,\n",
              "        -0.82780523],\n",
              "       [-0.92007234, -0.50963854,  0.63826537, -0.57567576,  0.29430856,\n",
              "        -0.62502504],\n",
              "       [ 0.17707052, -1.11966042, -0.82326983, -1.02186235, -0.72517784,\n",
              "        -0.21946464],\n",
              "       [ 1.5484991 ,  1.033358  ,  1.36903298,  0.24051923, -0.34477246,\n",
              "         2.31528781],\n",
              "       [-0.09721519, -1.15554406, -0.09250223, -0.40155416, -0.10131303,\n",
              "        -0.52363494],\n",
              "       [-0.09721519, -0.97612586,  0.34595833, -0.63008876, -0.32955625,\n",
              "         0.79443634],\n",
              "       [-0.64578662, -0.72494038, -0.38480927, -0.60832356,  0.09649777,\n",
              "        -0.92919533],\n",
              "       [-0.37150091,  0.31568519, -0.67711631, -0.03154576,  0.18779506,\n",
              "         0.08470565],\n",
              "       [-0.92007234,  1.64337988,  0.49211185, -0.46684976,  3.13974075,\n",
              "        -0.52363494],\n",
              "       [-0.37150091, -1.15554406, -1.40788391, -0.72803216, -0.32955625,\n",
              "        -0.92919533],\n",
              "       [-0.37150091, -0.79670766, -0.09250223, -0.72803216, -0.99906971,\n",
              "        -0.92919533]])"
            ]
          },
          "metadata": {
            "tags": []
          },
          "execution_count": 24
        }
      ]
    },
    {
      "cell_type": "markdown",
      "metadata": {
        "id": "xa3onus6Z3YU"
      },
      "source": [
        "**STEP 6:** Run the Logistic Regressor"
      ]
    },
    {
      "cell_type": "code",
      "metadata": {
        "id": "CfrJA8BgZ_NT"
      },
      "source": [
        "from sklearn.linear_model import LogisticRegression"
      ],
      "execution_count": 25,
      "outputs": []
    },
    {
      "cell_type": "code",
      "metadata": {
        "id": "CMm9C7wGaD_z"
      },
      "source": [
        "classifier = LogisticRegression()"
      ],
      "execution_count": 26,
      "outputs": []
    },
    {
      "cell_type": "markdown",
      "metadata": {
        "id": "wrFM5LbRaJvc"
      },
      "source": [
        "**STEP 7:** Fit the Model"
      ]
    },
    {
      "cell_type": "code",
      "metadata": {
        "colab": {
          "base_uri": "https://localhost:8080/"
        },
        "id": "5dLvO4lJaHi5",
        "outputId": "e32021f6-8384-438b-ff92-b6c889ad1021"
      },
      "source": [
        "classifier.fit(X_train, Y_train)"
      ],
      "execution_count": 27,
      "outputs": [
        {
          "output_type": "execute_result",
          "data": {
            "text/plain": [
              "LogisticRegression(C=1.0, class_weight=None, dual=False, fit_intercept=True,\n",
              "                   intercept_scaling=1, l1_ratio=None, max_iter=100,\n",
              "                   multi_class='auto', n_jobs=None, penalty='l2',\n",
              "                   random_state=None, solver='lbfgs', tol=0.0001, verbose=0,\n",
              "                   warm_start=False)"
            ]
          },
          "metadata": {
            "tags": []
          },
          "execution_count": 27
        }
      ]
    },
    {
      "cell_type": "code",
      "metadata": {
        "id": "M5Jj24Y6aUdL"
      },
      "source": [
        "pred_y = classifier.predict(X_test)"
      ],
      "execution_count": 28,
      "outputs": []
    },
    {
      "cell_type": "code",
      "metadata": {
        "colab": {
          "base_uri": "https://localhost:8080/"
        },
        "id": "NnkqTNkFaYnJ",
        "outputId": "08945f74-87a1-4efc-f505-f2a8c87c0bca"
      },
      "source": [
        "pred_y"
      ],
      "execution_count": 29,
      "outputs": [
        {
          "output_type": "execute_result",
          "data": {
            "text/plain": [
              "array([0, 1, 0, 1, 0, 1, 0, 0, 1, 1, 0, 0, 0, 0, 0, 0, 0, 0, 0, 0, 0, 1,\n",
              "       0, 0, 0, 1, 0, 0, 0, 0, 0, 0, 0, 0, 0, 1, 0, 0, 0, 1, 1, 0, 1, 1,\n",
              "       0, 0, 0, 1, 1, 1, 0, 1, 0, 0, 1, 0, 0, 0, 1, 0, 0, 0, 0, 1, 0, 0,\n",
              "       0, 0, 0, 0, 0, 1, 0, 0, 0, 0, 1, 0, 0])"
            ]
          },
          "metadata": {
            "tags": []
          },
          "execution_count": 29
        }
      ]
    },
    {
      "cell_type": "code",
      "metadata": {
        "colab": {
          "base_uri": "https://localhost:8080/"
        },
        "id": "Qop6XoF3aiU7",
        "outputId": "f476ba03-3a87-4fbd-8062-f6f64b223e62"
      },
      "source": [
        "Y_test"
      ],
      "execution_count": 30,
      "outputs": [
        {
          "output_type": "execute_result",
          "data": {
            "text/plain": [
              "array([1, 1, 0, 0, 0, 0, 0, 0, 1, 0, 0, 1, 0, 1, 0, 0, 0, 0, 0, 0, 1, 0,\n",
              "       0, 0, 0, 1, 0, 0, 0, 0, 1, 0, 0, 1, 0, 1, 0, 1, 0, 1, 1, 0, 1, 0,\n",
              "       0, 0, 0, 0, 0, 1, 1, 1, 0, 0, 1, 0, 0, 0, 1, 1, 0, 0, 1, 1, 0, 0,\n",
              "       0, 1, 0, 0, 0, 1, 0, 0, 0, 0, 1, 0, 0])"
            ]
          },
          "metadata": {
            "tags": []
          },
          "execution_count": 30
        }
      ]
    },
    {
      "cell_type": "markdown",
      "metadata": {
        "id": "xpc39-D4ashx"
      },
      "source": [
        "**STEP 8:** Predicting the Output"
      ]
    },
    {
      "cell_type": "code",
      "metadata": {
        "colab": {
          "base_uri": "https://localhost:8080/"
        },
        "id": "Clwx2qvba0QW",
        "outputId": "72a67f12-e01f-4ad8-d210-d76cfcdaf27e"
      },
      "source": [
        "classifier.predict(sc.transform([[6,148,72,0,33.6,50]]))"
      ],
      "execution_count": 31,
      "outputs": [
        {
          "output_type": "execute_result",
          "data": {
            "text/plain": [
              "array([1])"
            ]
          },
          "metadata": {
            "tags": []
          },
          "execution_count": 31
        }
      ]
    },
    {
      "cell_type": "code",
      "metadata": {
        "colab": {
          "base_uri": "https://localhost:8080/"
        },
        "id": "8ZEqoPiba5M4",
        "outputId": "d435b7d0-3b98-41a8-dd14-bcf7fc5ba200"
      },
      "source": [
        "classifier.predict(sc.transform([[2,88,58,16,28.4,22]]))"
      ],
      "execution_count": 33,
      "outputs": [
        {
          "output_type": "execute_result",
          "data": {
            "text/plain": [
              "array([0])"
            ]
          },
          "metadata": {
            "tags": []
          },
          "execution_count": 33
        }
      ]
    },
    {
      "cell_type": "markdown",
      "metadata": {
        "id": "QOAxZPWWhESf"
      },
      "source": [
        "**STEP 9:** Classification Metrics"
      ]
    },
    {
      "cell_type": "code",
      "metadata": {
        "id": "PkxKVmwOhLCS"
      },
      "source": [
        "from sklearn.metrics import accuracy_score"
      ],
      "execution_count": 34,
      "outputs": []
    },
    {
      "cell_type": "code",
      "metadata": {
        "colab": {
          "base_uri": "https://localhost:8080/"
        },
        "id": "UMXS-ge-hQ2O",
        "outputId": "6d383054-d7cf-43c8-9d2b-999647c7641d"
      },
      "source": [
        "accuracy_score(Y_test, pred_y)*100"
      ],
      "execution_count": 35,
      "outputs": [
        {
          "output_type": "execute_result",
          "data": {
            "text/plain": [
              "77.21518987341773"
            ]
          },
          "metadata": {
            "tags": []
          },
          "execution_count": 35
        }
      ]
    },
    {
      "cell_type": "code",
      "metadata": {
        "id": "KUf9dGtqhubl"
      },
      "source": [
        "from sklearn.metrics import confusion_matrix"
      ],
      "execution_count": 36,
      "outputs": []
    },
    {
      "cell_type": "code",
      "metadata": {
        "colab": {
          "base_uri": "https://localhost:8080/"
        },
        "id": "zlJkgwxjhyJG",
        "outputId": "d789e15a-cf65-4461-bb10-de9deeb0995a"
      },
      "source": [
        "confusion_matrix(Y_test, pred_y)"
      ],
      "execution_count": 37,
      "outputs": [
        {
          "output_type": "execute_result",
          "data": {
            "text/plain": [
              "array([[47,  7],\n",
              "       [11, 14]])"
            ]
          },
          "metadata": {
            "tags": []
          },
          "execution_count": 37
        }
      ]
    },
    {
      "cell_type": "markdown",
      "metadata": {
        "id": "SEOLyvbfh_Sp"
      },
      "source": [
        "**STEP 10:** Prediction Analysis"
      ]
    },
    {
      "cell_type": "code",
      "metadata": {
        "colab": {
          "base_uri": "https://localhost:8080/",
          "height": 427
        },
        "id": "YAd8Kl0Nidzb",
        "outputId": "cdbd8974-958e-474a-ab0f-8db1ea1d3d40"
      },
      "source": [
        "sns.set(style=\"whitegrid\")\n",
        "labels = ['Non-Diabetic', 'Diabetic']\n",
        "sizes = diabetes_df['Outcome'].value_counts(sort = True)\n",
        "\n",
        "colors = [\"#09FBD3\",\"#FDF200\"]\n",
        "explode = (0.05,0) \n",
        " \n",
        "plt.figure(figsize=(7,7))\n",
        "plt.pie(sizes, explode=explode, labels=labels, colors=colors, autopct='%1.1f%%', shadow=True, startangle=90,)\n",
        "\n",
        "plt.title('Non-Diabetic vs Diabetic')\n",
        "plt.show()"
      ],
      "execution_count": 38,
      "outputs": [
        {
          "output_type": "display_data",
          "data": {
            "image/png": "[encoded data removed]",
            "text/plain": [
              "<Figure size 504x504 with 1 Axes>"
            ]
          },
          "metadata": {
            "tags": []
          }
        }
      ]
    }
  ]
}